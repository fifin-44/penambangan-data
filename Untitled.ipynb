{
 "cells": [
  {
   "cell_type": "code",
   "execution_count": 1,
   "metadata": {},
   "outputs": [
    {
     "data": {
      "text/html": [
       "<style  type=\"text/css\" >\n",
       "</style><table id=\"T_ce053d28_cfe1_11e9_84ba_3065ec4283e3\" ><thead>    <tr>        <th class=\"col_heading level0 col0\" >stats</th>        <th class=\"col_heading level0 col1\" >data bb</th>        <th class=\"col_heading level0 col2\" >data tb</th>        <th class=\"col_heading level0 col3\" >data umur</th>        <th class=\"col_heading level0 col4\" >data nilai</th>    </tr></thead><tbody>\n",
       "                <tr>\n",
       "                                <td id=\"T_ce053d28_cfe1_11e9_84ba_3065ec4283e3row0_col0\" class=\"data row0 col0\" >min</td>\n",
       "                        <td id=\"T_ce053d28_cfe1_11e9_84ba_3065ec4283e3row0_col1\" class=\"data row0 col1\" >40</td>\n",
       "                        <td id=\"T_ce053d28_cfe1_11e9_84ba_3065ec4283e3row0_col2\" class=\"data row0 col2\" >153</td>\n",
       "                        <td id=\"T_ce053d28_cfe1_11e9_84ba_3065ec4283e3row0_col3\" class=\"data row0 col3\" >7</td>\n",
       "                        <td id=\"T_ce053d28_cfe1_11e9_84ba_3065ec4283e3row0_col4\" class=\"data row0 col4\" >55</td>\n",
       "            </tr>\n",
       "            <tr>\n",
       "                                <td id=\"T_ce053d28_cfe1_11e9_84ba_3065ec4283e3row1_col0\" class=\"data row1 col0\" >max</td>\n",
       "                        <td id=\"T_ce053d28_cfe1_11e9_84ba_3065ec4283e3row1_col1\" class=\"data row1 col1\" >80</td>\n",
       "                        <td id=\"T_ce053d28_cfe1_11e9_84ba_3065ec4283e3row1_col2\" class=\"data row1 col2\" >178</td>\n",
       "                        <td id=\"T_ce053d28_cfe1_11e9_84ba_3065ec4283e3row1_col3\" class=\"data row1 col3\" >56</td>\n",
       "                        <td id=\"T_ce053d28_cfe1_11e9_84ba_3065ec4283e3row1_col4\" class=\"data row1 col4\" >100</td>\n",
       "            </tr>\n",
       "            <tr>\n",
       "                                <td id=\"T_ce053d28_cfe1_11e9_84ba_3065ec4283e3row2_col0\" class=\"data row2 col0\" >Mean</td>\n",
       "                        <td id=\"T_ce053d28_cfe1_11e9_84ba_3065ec4283e3row2_col1\" class=\"data row2 col1\" >62.03</td>\n",
       "                        <td id=\"T_ce053d28_cfe1_11e9_84ba_3065ec4283e3row2_col2\" class=\"data row2 col2\" >165.41</td>\n",
       "                        <td id=\"T_ce053d28_cfe1_11e9_84ba_3065ec4283e3row2_col3\" class=\"data row2 col3\" >28.87</td>\n",
       "                        <td id=\"T_ce053d28_cfe1_11e9_84ba_3065ec4283e3row2_col4\" class=\"data row2 col4\" >75.39</td>\n",
       "            </tr>\n",
       "            <tr>\n",
       "                                <td id=\"T_ce053d28_cfe1_11e9_84ba_3065ec4283e3row3_col0\" class=\"data row3 col0\" >Standart Deviasi</td>\n",
       "                        <td id=\"T_ce053d28_cfe1_11e9_84ba_3065ec4283e3row3_col1\" class=\"data row3 col1\" >11.74</td>\n",
       "                        <td id=\"T_ce053d28_cfe1_11e9_84ba_3065ec4283e3row3_col2\" class=\"data row3 col2\" >7.69</td>\n",
       "                        <td id=\"T_ce053d28_cfe1_11e9_84ba_3065ec4283e3row3_col3\" class=\"data row3 col3\" >13.61</td>\n",
       "                        <td id=\"T_ce053d28_cfe1_11e9_84ba_3065ec4283e3row3_col4\" class=\"data row3 col4\" >12.54</td>\n",
       "            </tr>\n",
       "            <tr>\n",
       "                                <td id=\"T_ce053d28_cfe1_11e9_84ba_3065ec4283e3row4_col0\" class=\"data row4 col0\" >Variasi</td>\n",
       "                        <td id=\"T_ce053d28_cfe1_11e9_84ba_3065ec4283e3row4_col1\" class=\"data row4 col1\" >137.83</td>\n",
       "                        <td id=\"T_ce053d28_cfe1_11e9_84ba_3065ec4283e3row4_col2\" class=\"data row4 col2\" >59.11</td>\n",
       "                        <td id=\"T_ce053d28_cfe1_11e9_84ba_3065ec4283e3row4_col3\" class=\"data row4 col3\" >185.31</td>\n",
       "                        <td id=\"T_ce053d28_cfe1_11e9_84ba_3065ec4283e3row4_col4\" class=\"data row4 col4\" >157.37</td>\n",
       "            </tr>\n",
       "            <tr>\n",
       "                                <td id=\"T_ce053d28_cfe1_11e9_84ba_3065ec4283e3row5_col0\" class=\"data row5 col0\" >Skewnes</td>\n",
       "                        <td id=\"T_ce053d28_cfe1_11e9_84ba_3065ec4283e3row5_col1\" class=\"data row5 col1\" >-0.15</td>\n",
       "                        <td id=\"T_ce053d28_cfe1_11e9_84ba_3065ec4283e3row5_col2\" class=\"data row5 col2\" >0.1</td>\n",
       "                        <td id=\"T_ce053d28_cfe1_11e9_84ba_3065ec4283e3row5_col3\" class=\"data row5 col3\" >0.19</td>\n",
       "                        <td id=\"T_ce053d28_cfe1_11e9_84ba_3065ec4283e3row5_col4\" class=\"data row5 col4\" >0.09</td>\n",
       "            </tr>\n",
       "            <tr>\n",
       "                                <td id=\"T_ce053d28_cfe1_11e9_84ba_3065ec4283e3row6_col0\" class=\"data row6 col0\" >Quartile 1</td>\n",
       "                        <td id=\"T_ce053d28_cfe1_11e9_84ba_3065ec4283e3row6_col1\" class=\"data row6 col1\" >52</td>\n",
       "                        <td id=\"T_ce053d28_cfe1_11e9_84ba_3065ec4283e3row6_col2\" class=\"data row6 col2\" >159</td>\n",
       "                        <td id=\"T_ce053d28_cfe1_11e9_84ba_3065ec4283e3row6_col3\" class=\"data row6 col3\" >17</td>\n",
       "                        <td id=\"T_ce053d28_cfe1_11e9_84ba_3065ec4283e3row6_col4\" class=\"data row6 col4\" >64</td>\n",
       "            </tr>\n",
       "            <tr>\n",
       "                                <td id=\"T_ce053d28_cfe1_11e9_84ba_3065ec4283e3row7_col0\" class=\"data row7 col0\" >Quartile 2</td>\n",
       "                        <td id=\"T_ce053d28_cfe1_11e9_84ba_3065ec4283e3row7_col1\" class=\"data row7 col1\" >61</td>\n",
       "                        <td id=\"T_ce053d28_cfe1_11e9_84ba_3065ec4283e3row7_col2\" class=\"data row7 col2\" >165.5</td>\n",
       "                        <td id=\"T_ce053d28_cfe1_11e9_84ba_3065ec4283e3row7_col3\" class=\"data row7 col3\" >28</td>\n",
       "                        <td id=\"T_ce053d28_cfe1_11e9_84ba_3065ec4283e3row7_col4\" class=\"data row7 col4\" >74.5</td>\n",
       "            </tr>\n",
       "            <tr>\n",
       "                                <td id=\"T_ce053d28_cfe1_11e9_84ba_3065ec4283e3row8_col0\" class=\"data row8 col0\" >Quartile 3</td>\n",
       "                        <td id=\"T_ce053d28_cfe1_11e9_84ba_3065ec4283e3row8_col1\" class=\"data row8 col1\" >73</td>\n",
       "                        <td id=\"T_ce053d28_cfe1_11e9_84ba_3065ec4283e3row8_col2\" class=\"data row8 col2\" >172.25</td>\n",
       "                        <td id=\"T_ce053d28_cfe1_11e9_84ba_3065ec4283e3row8_col3\" class=\"data row8 col3\" >41</td>\n",
       "                        <td id=\"T_ce053d28_cfe1_11e9_84ba_3065ec4283e3row8_col4\" class=\"data row8 col4\" >85.25</td>\n",
       "            </tr>\n",
       "            <tr>\n",
       "                                <td id=\"T_ce053d28_cfe1_11e9_84ba_3065ec4283e3row9_col0\" class=\"data row9 col0\" >Median</td>\n",
       "                        <td id=\"T_ce053d28_cfe1_11e9_84ba_3065ec4283e3row9_col1\" class=\"data row9 col1\" >62.03</td>\n",
       "                        <td id=\"T_ce053d28_cfe1_11e9_84ba_3065ec4283e3row9_col2\" class=\"data row9 col2\" >165.41</td>\n",
       "                        <td id=\"T_ce053d28_cfe1_11e9_84ba_3065ec4283e3row9_col3\" class=\"data row9 col3\" >28.87</td>\n",
       "                        <td id=\"T_ce053d28_cfe1_11e9_84ba_3065ec4283e3row9_col4\" class=\"data row9 col4\" >75.39</td>\n",
       "            </tr>\n",
       "            <tr>\n",
       "                                <td id=\"T_ce053d28_cfe1_11e9_84ba_3065ec4283e3row10_col0\" class=\"data row10 col0\" >Modus</td>\n",
       "                        <td id=\"T_ce053d28_cfe1_11e9_84ba_3065ec4283e3row10_col1\" class=\"data row10 col1\" >56</td>\n",
       "                        <td id=\"T_ce053d28_cfe1_11e9_84ba_3065ec4283e3row10_col2\" class=\"data row10 col2\" >161</td>\n",
       "                        <td id=\"T_ce053d28_cfe1_11e9_84ba_3065ec4283e3row10_col3\" class=\"data row10 col3\" >18</td>\n",
       "                        <td id=\"T_ce053d28_cfe1_11e9_84ba_3065ec4283e3row10_col4\" class=\"data row10 col4\" >59</td>\n",
       "            </tr>\n",
       "    </tbody></table>"
      ],
      "text/plain": [
       "<pandas.io.formats.style.Styler at 0x24560a0f710>"
      ]
     },
     "execution_count": 1,
     "metadata": {},
     "output_type": "execute_result"
    }
   ],
   "source": [
    "import pandas as pd\n",
    "from scipy import stats\n",
    "df = pd.read_csv('nur.csv',sep=\";\")\n",
    "data = {\"stats\":['min','max','Mean','Standart Deviasi', 'Variasi','Skewnes',\n",
    "                 'Quartile 1','Quartile 2', 'Quartile 3', 'Median','Modus']}\n",
    "for i in df.columns:\n",
    "    data[i] = [df[i].min(),df[i].max(),df[i].mean(),round(df[i].std(),2), round(df[i].var(),2), round(df[i].skew(),2), \n",
    "               df[i].quantile(0.25),df[i].quantile(0.5),df[i].quantile(0.75), df[i].mean(), stats.mode(df[i]).mode[0]]\n",
    "kd= pd.DataFrame(data)\n",
    "kd.style.hide_index()"
   ]
  },
  {
   "cell_type": "code",
   "execution_count": null,
   "metadata": {},
   "outputs": [],
   "source": []
  }
 ],
 "metadata": {
  "kernelspec": {
   "display_name": "Python 3",
   "language": "python",
   "name": "python3"
  },
  "language_info": {
   "codemirror_mode": {
    "name": "ipython",
    "version": 3
   },
   "file_extension": ".py",
   "mimetype": "text/x-python",
   "name": "python",
   "nbconvert_exporter": "python",
   "pygments_lexer": "ipython3",
   "version": "3.7.3"
  }
 },
 "nbformat": 4,
 "nbformat_minor": 2
}
